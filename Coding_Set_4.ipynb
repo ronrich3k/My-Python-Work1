{
  "nbformat": 4,
  "nbformat_minor": 0,
  "metadata": {
    "colab": {
      "provenance": [],
      "authorship_tag": "ABX9TyMMZP7UboxAVx3QCYdgebDr",
      "include_colab_link": true
    },
    "kernelspec": {
      "name": "python3",
      "display_name": "Python 3"
    },
    "language_info": {
      "name": "python"
    }
  },
  "cells": [
    {
      "cell_type": "markdown",
      "metadata": {
        "id": "view-in-github",
        "colab_type": "text"
      },
      "source": [
        "<a href=\"https://colab.research.google.com/github/ronrich3k/My-Python-Work1/blob/main/Coding_Set_4.ipynb\" target=\"_parent\"><img src=\"https://colab.research.google.com/assets/colab-badge.svg\" alt=\"Open In Colab\"/></a>"
      ]
    },
    {
      "cell_type": "markdown",
      "source": [
        "# Coding Set 4"
      ],
      "metadata": {
        "id": "NRj5mEqjDSV5"
      }
    },
    {
      "cell_type": "code",
      "source": [],
      "metadata": {
        "id": "Jz5M2hrDx-4D"
      },
      "execution_count": null,
      "outputs": []
    },
    {
      "cell_type": "markdown",
      "source": [
        "### Algorithm Workbench Ex. #4 & 5"
      ],
      "metadata": {
        "id": "dIFL0tV-DaES"
      }
    },
    {
      "cell_type": "markdown",
      "source": [
        "###### Ex #4"
      ],
      "metadata": {
        "id": "eUVL3xr-RxVY"
      }
    },
    {
      "cell_type": "code",
      "source": [
        "# I am asked to write a while loop that asks the user to enter two numbers."
      ],
      "metadata": {
        "id": "renVPR76yBpk"
      },
      "execution_count": 1,
      "outputs": []
    },
    {
      "cell_type": "code",
      "source": [
        "# The numbers should be added and their sum displayed."
      ],
      "metadata": {
        "id": "t2NonGIeyOFe"
      },
      "execution_count": 2,
      "outputs": []
    },
    {
      "cell_type": "code",
      "source": [
        "# First I will create a variable to control whether the user would like to continue adding numbers."
      ],
      "metadata": {
        "id": "VTNqOqgryWh7"
      },
      "execution_count": 3,
      "outputs": []
    },
    {
      "cell_type": "code",
      "source": [
        "continue_add = 'y'"
      ],
      "metadata": {
        "id": "b46W-cCFzKzF"
      },
      "execution_count": 4,
      "outputs": []
    },
    {
      "cell_type": "code",
      "source": [],
      "metadata": {
        "id": "y2dh-_vt0LXP"
      },
      "execution_count": 4,
      "outputs": []
    },
    {
      "cell_type": "code",
      "source": [
        "# Adding two numbers together and displaying their sum using a while loop"
      ],
      "metadata": {
        "id": "Zu3EUQbK0NSw"
      },
      "execution_count": 5,
      "outputs": []
    },
    {
      "cell_type": "code",
      "source": [
        "while continue_add == 'y':\n",
        "   # I will ask the user to input two numbers. These will be labeled Num1 and Num2\n",
        "    Num1 = int(input('Enter the first number: '))\n",
        "    Num2 = int(input('Enter the second number: '))\n",
        "    break"
      ],
      "metadata": {
        "id": "EFbw7Lj30aqy",
        "colab": {
          "base_uri": "https://localhost:8080/"
        },
        "outputId": "1d4e1a45-9f1e-4b84-acfc-565b4b7e6c45"
      },
      "execution_count": 19,
      "outputs": [
        {
          "name": "stdout",
          "output_type": "stream",
          "text": [
            "Enter the first number: 10\n",
            "Enter the second number: 20\n"
          ]
        }
      ]
    },
    {
      "cell_type": "code",
      "source": [
        "# Now I will make the calculation."
      ],
      "metadata": {
        "id": "xKvMDBMW3Gzf"
      },
      "execution_count": 12,
      "outputs": []
    },
    {
      "cell_type": "code",
      "source": [
        "# This will be adding the two numbers together."
      ],
      "metadata": {
        "id": "xGgnZplG3LTi"
      },
      "execution_count": 13,
      "outputs": []
    },
    {
      "cell_type": "code",
      "source": [
        "Total_sum = Num1 + Num2"
      ],
      "metadata": {
        "id": "ND9alOUa3X8r"
      },
      "execution_count": 14,
      "outputs": []
    },
    {
      "cell_type": "code",
      "source": [],
      "metadata": {
        "id": "hhv8Chu23sjh"
      },
      "execution_count": null,
      "outputs": []
    },
    {
      "cell_type": "code",
      "source": [
        "# Now the sum will be displayed"
      ],
      "metadata": {
        "id": "ellqsdJ-3sW5"
      },
      "execution_count": 15,
      "outputs": []
    },
    {
      "cell_type": "code",
      "source": [
        "print(f'The sum of {Num1} and {Num2} is {Total_sum}')"
      ],
      "metadata": {
        "id": "0xYrf7gb31ya",
        "colab": {
          "base_uri": "https://localhost:8080/"
        },
        "outputId": "facf5b07-0c3a-4659-cb72-c69d155b084a"
      },
      "execution_count": 20,
      "outputs": [
        {
          "output_type": "stream",
          "name": "stdout",
          "text": [
            "The sum of 10 and 20 is 30.0\n"
          ]
        }
      ]
    },
    {
      "cell_type": "code",
      "source": [
        "# I ask and see if the user would like to use the program again."
      ],
      "metadata": {
        "id": "s1AFm2qx42VP"
      },
      "execution_count": 17,
      "outputs": []
    },
    {
      "cell_type": "code",
      "source": [
        "continue_add = input('Would you like to continue adding numbers? (Enter y for yes)')"
      ],
      "metadata": {
        "id": "_EgtSm4H41uU",
        "colab": {
          "base_uri": "https://localhost:8080/"
        },
        "outputId": "69c73574-f7c6-45cb-a304-1880755a022a"
      },
      "execution_count": 21,
      "outputs": [
        {
          "name": "stdout",
          "output_type": "stream",
          "text": [
            "Would you like to continue adding numbers? (Enter y for yes)y\n"
          ]
        }
      ]
    },
    {
      "cell_type": "code",
      "source": [],
      "metadata": {
        "id": "x87gZD6G-6kF"
      },
      "execution_count": null,
      "outputs": []
    },
    {
      "cell_type": "code",
      "source": [],
      "metadata": {
        "id": "SO-3_js9-7KC"
      },
      "execution_count": null,
      "outputs": []
    },
    {
      "cell_type": "code",
      "source": [],
      "metadata": {
        "id": "M1Ffy1jI-7eo"
      },
      "execution_count": null,
      "outputs": []
    },
    {
      "cell_type": "markdown",
      "source": [
        "##### Ex. #5"
      ],
      "metadata": {
        "id": "draq4rDO-8O6"
      }
    },
    {
      "cell_type": "code",
      "source": [
        "# This program asks the user to enter 10 numbers and keeps a running total of them all."
      ],
      "metadata": {
        "id": "nRdDlMqm_oMc"
      },
      "execution_count": null,
      "outputs": []
    },
    {
      "cell_type": "code",
      "source": [
        "MAX = 10"
      ],
      "metadata": {
        "id": "jPkVTrxh_0St"
      },
      "execution_count": null,
      "outputs": []
    },
    {
      "cell_type": "code",
      "source": [
        "# Now I will set the accumulator variable."
      ],
      "metadata": {
        "id": "segg2hLG_7TB"
      },
      "execution_count": null,
      "outputs": []
    },
    {
      "cell_type": "code",
      "source": [
        "Total = 0"
      ],
      "metadata": {
        "id": "s3E2kB0xAF2T"
      },
      "execution_count": null,
      "outputs": []
    },
    {
      "cell_type": "code",
      "source": [
        "# Let the user know what the program is doing"
      ],
      "metadata": {
        "id": "oUOQ6xvTALwR"
      },
      "execution_count": null,
      "outputs": []
    },
    {
      "cell_type": "code",
      "source": [
        "print('This program will calculate the sum of numbers')\n",
        "print(f'The amount of numbers you will enter is {MAX}')"
      ],
      "metadata": {
        "id": "BfcF2ymYAjZ-"
      },
      "execution_count": null,
      "outputs": []
    },
    {
      "cell_type": "code",
      "source": [
        "# Now I will collect the numbers"
      ],
      "metadata": {
        "id": "BtSdlRNlBIMS"
      },
      "execution_count": null,
      "outputs": []
    },
    {
      "cell_type": "code",
      "source": [
        "for counter in range(MAX):\n",
        "    number = int(input('Enter a number: '))\n",
        "    Total = Total + number"
      ],
      "metadata": {
        "id": "hsOG7JlVBPvz"
      },
      "execution_count": null,
      "outputs": []
    },
    {
      "cell_type": "code",
      "source": [
        "#The program will display the sum of numbers"
      ],
      "metadata": {
        "id": "sj56w25uBi5F"
      },
      "execution_count": null,
      "outputs": []
    },
    {
      "cell_type": "code",
      "source": [
        "print(f'The sum of the numbers is {Total}')"
      ],
      "metadata": {
        "id": "ve64I4FmBoDR"
      },
      "execution_count": null,
      "outputs": []
    },
    {
      "cell_type": "code",
      "source": [
        "#This should display the intended result"
      ],
      "metadata": {
        "id": "TICL8v8HB3yY"
      },
      "execution_count": null,
      "outputs": []
    },
    {
      "cell_type": "code",
      "source": [],
      "metadata": {
        "id": "2MklkLDiCo3S"
      },
      "execution_count": null,
      "outputs": []
    },
    {
      "cell_type": "code",
      "source": [],
      "metadata": {
        "id": "1w7c-GwoCor0"
      },
      "execution_count": null,
      "outputs": []
    },
    {
      "cell_type": "code",
      "source": [],
      "metadata": {
        "id": "NW5NF78aCoYZ"
      },
      "execution_count": null,
      "outputs": []
    },
    {
      "cell_type": "code",
      "source": [],
      "metadata": {
        "id": "TM_XnbaFCoKV"
      },
      "execution_count": null,
      "outputs": []
    },
    {
      "cell_type": "markdown",
      "source": [
        "## Programming excercises"
      ],
      "metadata": {
        "id": "t4t9c-aLCpP4"
      }
    },
    {
      "cell_type": "markdown",
      "source": [
        "#### 1. Bug Collector"
      ],
      "metadata": {
        "id": "SlaAgovjF2P7"
      }
    },
    {
      "cell_type": "code",
      "source": [
        "# I am asked to write a program that keeps a running total of bugs collected"
      ],
      "metadata": {
        "id": "74f75DJPF0cI"
      },
      "execution_count": null,
      "outputs": []
    },
    {
      "cell_type": "code",
      "source": [
        "# during 5 days and then displays the total number of bugs collected"
      ],
      "metadata": {
        "id": "UJVFdum8GV9X"
      },
      "execution_count": null,
      "outputs": []
    },
    {
      "cell_type": "code",
      "source": [
        "# First I set the accumulator variable"
      ],
      "metadata": {
        "id": "-boHfBoWGeek"
      },
      "execution_count": null,
      "outputs": []
    },
    {
      "cell_type": "code",
      "source": [
        "Total = 0"
      ],
      "metadata": {
        "id": "M8uZr1-7GkU1"
      },
      "execution_count": null,
      "outputs": []
    },
    {
      "cell_type": "code",
      "source": [],
      "metadata": {
        "id": "qAPjU2yeGrA5"
      },
      "execution_count": null,
      "outputs": []
    },
    {
      "cell_type": "code",
      "source": [
        "# Then I get the bugs collected for each day"
      ],
      "metadata": {
        "id": "_JBA8HtjGtNh"
      },
      "execution_count": null,
      "outputs": []
    },
    {
      "cell_type": "code",
      "source": [
        "for day in range(5):\n",
        "    bugs = int(input(f'How many bugs were collected on day {day+1}? '))\n",
        "    Total = Total + bugs"
      ],
      "metadata": {
        "id": "B8pC5NaWHlrv"
      },
      "execution_count": null,
      "outputs": []
    },
    {
      "cell_type": "code",
      "source": [
        "# Then the program will display the total number of bugs"
      ],
      "metadata": {
        "id": "J9OhbG3UIje4"
      },
      "execution_count": null,
      "outputs": []
    },
    {
      "cell_type": "code",
      "source": [
        "print(f'The total number of bugs collected is {Total}')"
      ],
      "metadata": {
        "id": "n3XY25PNIqHk"
      },
      "execution_count": null,
      "outputs": []
    },
    {
      "cell_type": "code",
      "source": [
        "# This should produce the intended effect."
      ],
      "metadata": {
        "id": "Rm4TTsDnJEio"
      },
      "execution_count": null,
      "outputs": []
    },
    {
      "cell_type": "code",
      "source": [],
      "metadata": {
        "id": "LsWSav3eJMj3"
      },
      "execution_count": null,
      "outputs": []
    },
    {
      "cell_type": "code",
      "source": [],
      "metadata": {
        "id": "yQr-SGQ0JMXE"
      },
      "execution_count": null,
      "outputs": []
    },
    {
      "cell_type": "markdown",
      "source": [
        "#### 4. Distance Traveled"
      ],
      "metadata": {
        "id": "5kVP7e-4JNUR"
      }
    },
    {
      "cell_type": "code",
      "source": [
        "# I am asked to write a program in which a user inputs their speed in MPH"
      ],
      "metadata": {
        "id": "JftxrqycJU0o"
      },
      "execution_count": null,
      "outputs": []
    },
    {
      "cell_type": "code",
      "source": [
        "# and the number of hours they have traveled. The program should then display"
      ],
      "metadata": {
        "id": "WUHRju1gJsQv"
      },
      "execution_count": null,
      "outputs": []
    },
    {
      "cell_type": "code",
      "source": [
        "# The distance traveled during each hour of that time period."
      ],
      "metadata": {
        "id": "nbkCM6cjKDXI"
      },
      "execution_count": null,
      "outputs": []
    },
    {
      "cell_type": "code",
      "source": [
        "# I will start by asking the user to input their speed"
      ],
      "metadata": {
        "id": "dYjP_FFxKOcx"
      },
      "execution_count": null,
      "outputs": []
    },
    {
      "cell_type": "code",
      "source": [
        "speed = int(input('What is your speed in MPH? '))"
      ],
      "metadata": {
        "id": "kutVD4ZsKvJV"
      },
      "execution_count": null,
      "outputs": []
    },
    {
      "cell_type": "code",
      "source": [
        "# Then I will ask for the amount of time traveled  in hours."
      ],
      "metadata": {
        "id": "LNvOjVQBLGVL"
      },
      "execution_count": null,
      "outputs": []
    },
    {
      "cell_type": "code",
      "source": [
        "time = int(input('How many hours have you traveled? '))"
      ],
      "metadata": {
        "id": "0jRmyX6SLVd-"
      },
      "execution_count": null,
      "outputs": []
    },
    {
      "cell_type": "code",
      "source": [
        "# Now I print the table headings"
      ],
      "metadata": {
        "id": "ppbVccp-Lw0D"
      },
      "execution_count": null,
      "outputs": []
    },
    {
      "cell_type": "code",
      "source": [
        "print(f'Hour\\tDistance')\n",
        "print('----------------')\n",
        "for hour in range(time):\n",
        "    distance = speed * (hour+1)\n",
        "    print(f'{hour+1}\\t{distance}') # I use a for statement to calculate the\n",
        "    # distance and display the information."
      ],
      "metadata": {
        "id": "4Qq-ggK6NQlB"
      },
      "execution_count": null,
      "outputs": []
    },
    {
      "cell_type": "code",
      "source": [
        "# Now I print the information in the table"
      ],
      "metadata": {
        "id": "Mr7MhLJuNuya"
      },
      "execution_count": null,
      "outputs": []
    },
    {
      "cell_type": "code",
      "source": [
        "# This should produce the intended result"
      ],
      "metadata": {
        "id": "rnxOtALfN1QZ"
      },
      "execution_count": null,
      "outputs": []
    },
    {
      "cell_type": "code",
      "source": [],
      "metadata": {
        "id": "RWnieL63Pq2R"
      },
      "execution_count": null,
      "outputs": []
    },
    {
      "cell_type": "code",
      "source": [],
      "metadata": {
        "id": "JKW7xvqfPrL4"
      },
      "execution_count": null,
      "outputs": []
    },
    {
      "cell_type": "code",
      "source": [],
      "metadata": {
        "id": "EE4rZmXqPreY"
      },
      "execution_count": null,
      "outputs": []
    },
    {
      "cell_type": "markdown",
      "source": [
        "##### 12. Population"
      ],
      "metadata": {
        "id": "h67Akn7yPt2R"
      }
    },
    {
      "cell_type": "code",
      "source": [
        "# I am asked to write a program that predicts the size of a population."
      ],
      "metadata": {
        "id": "nANIb4rqQHXR"
      },
      "execution_count": null,
      "outputs": []
    },
    {
      "cell_type": "code",
      "source": [
        "# The user must fist enter the starting number of the population."
      ],
      "metadata": {
        "id": "eQoCx03NQvHz"
      },
      "execution_count": null,
      "outputs": []
    },
    {
      "cell_type": "code",
      "source": [
        "# Then enter the daily population increase as a percentage."
      ],
      "metadata": {
        "id": "uYWQfZA9Q3KK"
      },
      "execution_count": null,
      "outputs": []
    },
    {
      "cell_type": "code",
      "source": [
        "# Then enter the number of days the population will be left to multiply."
      ],
      "metadata": {
        "id": "LOEBk6ENQ-Nb"
      },
      "execution_count": null,
      "outputs": []
    },
    {
      "cell_type": "code",
      "source": [
        "# The information should then be displayed in a table."
      ],
      "metadata": {
        "id": "DNaFLBXRRJPX"
      },
      "execution_count": null,
      "outputs": []
    },
    {
      "cell_type": "code",
      "source": [
        "Starting_pop = int(input('What is the starting population? '))\n",
        "# Collect the starting population"
      ],
      "metadata": {
        "id": "NuxslLfaRXIY"
      },
      "execution_count": null,
      "outputs": []
    },
    {
      "cell_type": "code",
      "source": [
        "Avg_increase = int(input('What is the average daily increase? '))\n",
        "# Collect the average increase (in percentage)"
      ],
      "metadata": {
        "id": "W0FLbttuRf8a"
      },
      "execution_count": null,
      "outputs": []
    },
    {
      "cell_type": "code",
      "source": [
        "days_num = int(input('How many days to multiply? '))\n",
        "for day in range(days_num):\n",
        "    Starting_pop = Starting_pop + (Starting_pop * (Avg_increase/100))\n",
        "    print(f'{day+1}\\t{Starting_pop}')\n",
        "    print('----------------')\n",
        "    # Call for the function to perform the calculation"
      ],
      "metadata": {
        "id": "mUR0onPqRmHC"
      },
      "execution_count": null,
      "outputs": []
    },
    {
      "cell_type": "code",
      "source": [
        "# This should produce the intended result."
      ],
      "metadata": {
        "id": "5avkJvH6Ryd6"
      },
      "execution_count": null,
      "outputs": []
    },
    {
      "cell_type": "code",
      "source": [],
      "metadata": {
        "id": "RQtHsH1VT-sF"
      },
      "execution_count": null,
      "outputs": []
    },
    {
      "cell_type": "code",
      "source": [],
      "metadata": {
        "id": "pogdgOiOT-kk"
      },
      "execution_count": null,
      "outputs": []
    },
    {
      "cell_type": "code",
      "source": [],
      "metadata": {
        "id": "FVHTzoriT-ab"
      },
      "execution_count": null,
      "outputs": []
    },
    {
      "cell_type": "markdown",
      "source": [
        "#### 13."
      ],
      "metadata": {
        "id": "tbZRDK4nT_Gg"
      }
    },
    {
      "cell_type": "code",
      "source": [
        "# I am asked to write a program that uses nested loops to draw a"
      ],
      "metadata": {
        "id": "Fzp79KW9UY9a"
      },
      "execution_count": null,
      "outputs": []
    },
    {
      "cell_type": "code",
      "source": [
        "# specific pattern."
      ],
      "metadata": {
        "id": "g7OITX6ZUgrv"
      },
      "execution_count": null,
      "outputs": []
    },
    {
      "cell_type": "code",
      "source": [
        "# I will start by getting the base size of the figure."
      ],
      "metadata": {
        "id": "HMRW8kiPV8aF"
      },
      "execution_count": null,
      "outputs": []
    },
    {
      "cell_type": "code",
      "source": [
        "rows = 7"
      ],
      "metadata": {
        "id": "6kcLKATxcflt"
      },
      "execution_count": null,
      "outputs": []
    },
    {
      "cell_type": "code",
      "source": [
        "# Then I will write a for statement that uses a nested loop."
      ],
      "metadata": {
        "id": "a8QqwJR0e2lK"
      },
      "execution_count": null,
      "outputs": []
    },
    {
      "cell_type": "code",
      "source": [
        "for i in range(rows + 1, 0, -1): # I have to reverse the nested loop to get an\n",
        "    # upside down triangle.\n",
        "    for j in range(0, i - 1):\n",
        "# This will display the stars.\n",
        "        print(\"*\", end=' ')\n",
        "    print(\" \")"
      ],
      "metadata": {
        "id": "wKrslTswesfX"
      },
      "execution_count": null,
      "outputs": []
    },
    {
      "cell_type": "code",
      "source": [
        "# This should produce the intended result."
      ],
      "metadata": {
        "id": "GpEuHukpfqc9"
      },
      "execution_count": null,
      "outputs": []
    }
  ]
}