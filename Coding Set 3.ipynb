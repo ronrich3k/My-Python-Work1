{
 "cells": [
  {
   "cell_type": "markdown",
   "id": "1a8a2e81-ba98-4689-8164-dba0df98d49c",
   "metadata": {},
   "source": [
    "# Coding Set 3"
   ]
  },
  {
   "cell_type": "markdown",
   "id": "dd2d8506-3bd7-49c5-9ff1-eed3a4fb967f",
   "metadata": {},
   "source": [
    "## Algorithm Workbench Ex. 4&5"
   ]
  },
  {
   "cell_type": "markdown",
   "id": "1f1c75e1-84ee-456d-8b9a-a3195058f7b4",
   "metadata": {},
   "source": [
    "### Algorithm Workbench Ex. 4"
   ]
  },
  {
   "cell_type": "code",
   "execution_count": 93,
   "id": "937283e9-658e-4a97-8d3f-be1cdfecdfd8",
   "metadata": {},
   "outputs": [],
   "source": [
    "# The question asks for me to rewrite this code with proper alignment and indentation."
   ]
  },
  {
   "cell_type": "code",
   "execution_count": null,
   "id": "30032302-83ed-445a-8ec9-46882e319d85",
   "metadata": {},
   "outputs": [],
   "source": [
    "if score >= A_score:\n",
    "    print('Your grade is A. ')\n",
    "    if score >= B_score:\n",
    "        print('Your grade is B. ')\n",
    "        if score >= C_score:\n",
    "            print('Your grade is C. ')\n",
    "            if score >= D_score:\n",
    "                print('Your grade is D. ')\n",
    "            else:\n",
    "                print('Your grade is F')"
   ]
  },
  {
   "cell_type": "markdown",
   "id": "3de4f601-dfa3-47c2-a7bb-2a6b35a987f5",
   "metadata": {},
   "source": [
    "### Algorithm Workbench Ex. 5"
   ]
  },
  {
   "cell_type": "code",
   "execution_count": 95,
   "id": "7dcc7713-335b-41fe-91dd-97e8aaaa15ec",
   "metadata": {},
   "outputs": [],
   "source": [
    "# The question asks me to write nested decision structures that perform the following: If amount1 is greater than 10 and amount 2 is less than 100, display the greater of the two."
   ]
  },
  {
   "cell_type": "code",
   "execution_count": 96,
   "id": "ad3e84c3-07e0-4ad6-a6b6-68aba37b4674",
   "metadata": {},
   "outputs": [],
   "source": [
    "# First I will ask the user's input for Amount1 and Amount2"
   ]
  },
  {
   "cell_type": "code",
   "execution_count": 97,
   "id": "2a2b0c84-79c7-4ed3-856a-ddb6b4249010",
   "metadata": {},
   "outputs": [
    {
     "name": "stdin",
     "output_type": "stream",
     "text": [
      "Enter your first amount 76\n"
     ]
    }
   ],
   "source": [
    "Amount_1 = int(input('Enter your first amount' \"\" ))"
   ]
  },
  {
   "cell_type": "code",
   "execution_count": 98,
   "id": "d98e8363-546e-48ca-9340-f3ecfae340eb",
   "metadata": {},
   "outputs": [
    {
     "name": "stdin",
     "output_type": "stream",
     "text": [
      "Enter your second amount 45\n"
     ]
    }
   ],
   "source": [
    "Amount_2 = int(input('Enter your second amount' ))"
   ]
  },
  {
   "cell_type": "code",
   "execution_count": 99,
   "id": "7422ed68-0738-4f04-ade9-50f68ab44f3c",
   "metadata": {},
   "outputs": [],
   "source": [
    "# Then I create a nested decision structure that will tell the program to display what I specify, when the conditions are met."
   ]
  },
  {
   "cell_type": "code",
   "execution_count": 100,
   "id": "518efe15-0d3b-490f-8c54-70962d08c070",
   "metadata": {},
   "outputs": [
    {
     "name": "stdout",
     "output_type": "stream",
     "text": [
      "The Bigger Number\n"
     ]
    }
   ],
   "source": [
    "if Amount_1 > 10:\n",
    "    if Amount_2 < 100:\n",
    "        print('The Bigger Number')"
   ]
  },
  {
   "cell_type": "code",
   "execution_count": 101,
   "id": "3a1abc5b-d1f3-4ecc-870a-dd9fa0092646",
   "metadata": {},
   "outputs": [],
   "source": [
    "# I know this is not the correct way to answer the question. This was just a test."
   ]
  },
  {
   "cell_type": "code",
   "execution_count": 102,
   "id": "5020e2c5-9aba-43b4-bb16-7d3e2429495a",
   "metadata": {},
   "outputs": [],
   "source": [
    "# With the max function I can call on the interpreter to print the largest of these two numbers."
   ]
  },
  {
   "cell_type": "code",
   "execution_count": 103,
   "id": "f1055abe-8ffb-4fa1-b44d-87ff378a391d",
   "metadata": {},
   "outputs": [
    {
     "name": "stdout",
     "output_type": "stream",
     "text": [
      "76\n"
     ]
    }
   ],
   "source": [
    "if Amount_1 > 10:\n",
    "    if Amount_2 < 100:\n",
    "        print(max(Amount_1,Amount_2))"
   ]
  },
  {
   "cell_type": "code",
   "execution_count": 104,
   "id": "63bcd08f-ebaa-4e83-90ed-5b91b330fbe0",
   "metadata": {},
   "outputs": [],
   "source": [
    "if Amount_1 < 10:\n",
    "    print(Amount_1)\n",
    "        "
   ]
  },
  {
   "cell_type": "code",
   "execution_count": 105,
   "id": "10751851-8dd9-46fc-aa2c-779adfca486e",
   "metadata": {},
   "outputs": [],
   "source": [
    "if Amount_2 > 100:\n",
    "    print(Amount_2)"
   ]
  },
  {
   "cell_type": "code",
   "execution_count": 106,
   "id": "60b142fd-77c0-431a-9d4f-7794f068b2a4",
   "metadata": {},
   "outputs": [],
   "source": [
    "# This should produce the desired results. I added a couple of extra if arguments to make the program display a little more information."
   ]
  },
  {
   "cell_type": "markdown",
   "id": "12182f0c-f86b-42bf-b4dd-30d3c1f2c922",
   "metadata": {},
   "source": []
  },
  {
   "cell_type": "markdown",
   "id": "77cf0708-391e-4cf5-a65c-95d2cdb4ef31",
   "metadata": {},
   "source": [
    "# Programming Ex. 1&5"
   ]
  },
  {
   "cell_type": "markdown",
   "id": "9eb32117-9d30-4001-a646-e08420d69fd6",
   "metadata": {},
   "source": [
    "### Programming Ex. 1"
   ]
  },
  {
   "cell_type": "code",
   "execution_count": 110,
   "id": "29df8b75-dc0f-4af7-ba03-c21805ae5090",
   "metadata": {},
   "outputs": [],
   "source": [
    "# I am asked to write a program that displays the day of the week. The numbers 1-7 should correspond with the days of the week."
   ]
  },
  {
   "cell_type": "code",
   "execution_count": 111,
   "id": "8fde228b-56ca-4de0-a70c-d7297fc2ecf5",
   "metadata": {},
   "outputs": [],
   "source": [
    "# There should be an error message if a number not 1-7 are entered."
   ]
  },
  {
   "cell_type": "code",
   "execution_count": 112,
   "id": "d7ef2870-5230-451e-8b44-79d6bc788290",
   "metadata": {},
   "outputs": [],
   "source": [
    "# First I am goin to assign all of my variables values."
   ]
  },
  {
   "cell_type": "code",
   "execution_count": 113,
   "id": "e9061778-ae03-4aaf-b42f-6e97d1af7cc2",
   "metadata": {},
   "outputs": [],
   "source": [
    "Monday = 1"
   ]
  },
  {
   "cell_type": "code",
   "execution_count": 114,
   "id": "78ac9d24-c8d4-4fac-8923-d941a0302914",
   "metadata": {},
   "outputs": [],
   "source": [
    "Tuesday = 2"
   ]
  },
  {
   "cell_type": "code",
   "execution_count": 115,
   "id": "425bcb34-39af-46d6-b131-b4b41dc30508",
   "metadata": {},
   "outputs": [],
   "source": [
    "Wednesday = 3"
   ]
  },
  {
   "cell_type": "code",
   "execution_count": 116,
   "id": "8341d914-f440-41c1-bc59-243d326576d5",
   "metadata": {},
   "outputs": [],
   "source": [
    "Thursday = 4"
   ]
  },
  {
   "cell_type": "code",
   "execution_count": 117,
   "id": "c3968936-e651-426b-b138-e5a3eecb7204",
   "metadata": {},
   "outputs": [],
   "source": [
    "Friday = 5"
   ]
  },
  {
   "cell_type": "code",
   "execution_count": 118,
   "id": "0a4ce459-95a9-4973-8f3d-e769564079d6",
   "metadata": {},
   "outputs": [],
   "source": [
    "Saturday = 6"
   ]
  },
  {
   "cell_type": "code",
   "execution_count": 119,
   "id": "462af5da-f6a2-49e6-91f8-83a2df983c2e",
   "metadata": {},
   "outputs": [],
   "source": [
    "Sunday = 7"
   ]
  },
  {
   "cell_type": "code",
   "execution_count": 120,
   "id": "72bae7f4-aa6b-451f-b15b-a16554dee284",
   "metadata": {},
   "outputs": [],
   "source": [
    "# Next I will ask for user input on which day it is"
   ]
  },
  {
   "cell_type": "code",
   "execution_count": 121,
   "id": "5425ea28-3e84-43c4-a7e5-77dcb00697a2",
   "metadata": {},
   "outputs": [
    {
     "name": "stdin",
     "output_type": "stream",
     "text": [
      "What day of the week is it? Input 1-7(EG: 1-Monday) 3\n"
     ]
    }
   ],
   "source": [
    "day = int(input('What day of the week is it?' ' ' 'Input 1-7(EG: 1-Monday)'))"
   ]
  },
  {
   "cell_type": "code",
   "execution_count": 122,
   "id": "60ef51df-7e5d-450f-b89a-b7a054ce678a",
   "metadata": {},
   "outputs": [],
   "source": [
    "# Giving my program nested decision structures in order to get my desired result."
   ]
  },
  {
   "cell_type": "code",
   "execution_count": 123,
   "id": "49026109-0763-4d45-ae71-fe722a3d7a89",
   "metadata": {},
   "outputs": [],
   "source": [
    "if day == 1:\n",
    "    print('The day is Monday')         "
   ]
  },
  {
   "cell_type": "code",
   "execution_count": 124,
   "id": "762cb108-32be-44ab-9ecb-9934b36c3935",
   "metadata": {},
   "outputs": [],
   "source": [
    " if day == 2:\n",
    "      print('The day is Tuesday')"
   ]
  },
  {
   "cell_type": "code",
   "execution_count": 125,
   "id": "09d50806-e3ae-4e5d-b93b-60e1050506bf",
   "metadata": {},
   "outputs": [
    {
     "name": "stdout",
     "output_type": "stream",
     "text": [
      "The day is Wednesday\n"
     ]
    }
   ],
   "source": [
    " if day == 3:\n",
    "     print('The day is Wednesday')\n",
    "\n",
    "if day == 4:\n",
    "    print('The day is Thursday')\n",
    "\n",
    "if day == 5:\n",
    "    print('The day is Friday')\n",
    "\n",
    " if day == 6:\n",
    "    print('The day is Saturday')\n",
    "\n",
    " if day == 7:\n",
    "    print('The day is Sunday')\n",
    "\n",
    "if day > 7:\n",
    "    if day == 0:\n",
    "        print('Error') # I had to give it the option to show error. It wouldnt natively do that. It would only show no information at all. "
   ]
  },
  {
   "cell_type": "code",
   "execution_count": 126,
   "id": "7d087b38-05db-4190-9e7b-b8d00c66a83d",
   "metadata": {},
   "outputs": [],
   "source": [
    "#This should produce the desired effect."
   ]
  },
  {
   "cell_type": "code",
   "execution_count": null,
   "id": "629b84ee-ec48-46ec-a568-610ac37c842a",
   "metadata": {},
   "outputs": [],
   "source": []
  },
  {
   "cell_type": "markdown",
   "id": "bedda4d8-c8ff-4aac-b92f-f69b0dbe7d81",
   "metadata": {},
   "source": [
    "### Programming Ex. 5"
   ]
  },
  {
   "cell_type": "code",
   "execution_count": 128,
   "id": "f6ab4268-d892-458c-8848-4dc5a55120ea",
   "metadata": {},
   "outputs": [],
   "source": [
    "# I am asked to write a program that will let a user enter the mass of an object, will calculate the weight of object, and then let the user know if the object is too light or too heavy. "
   ]
  },
  {
   "cell_type": "code",
   "execution_count": 129,
   "id": "2158b887-73bc-42b8-b5ea-e70e9d97fa9d",
   "metadata": {},
   "outputs": [],
   "source": [
    "# The formula is: Weight = Mass * 9.8"
   ]
  },
  {
   "cell_type": "code",
   "execution_count": 130,
   "id": "5dbf41ba-1599-441d-bc51-4599502b1d9e",
   "metadata": {},
   "outputs": [],
   "source": [
    "# I will ask the user for the amount of mass"
   ]
  },
  {
   "cell_type": "code",
   "execution_count": 131,
   "id": "21fb80d6-7e99-49b3-a54b-790d34f63806",
   "metadata": {},
   "outputs": [
    {
     "name": "stdin",
     "output_type": "stream",
     "text": [
      "What is the mass of your object?  15\n"
     ]
    }
   ],
   "source": [
    "mass = int(input('What is the mass of your object? '))"
   ]
  },
  {
   "cell_type": "code",
   "execution_count": 132,
   "id": "5857fa27-bc2d-476b-8b2f-35c2b1a62afc",
   "metadata": {},
   "outputs": [],
   "source": [
    "# The weight is calculated usind the formula"
   ]
  },
  {
   "cell_type": "code",
   "execution_count": 133,
   "id": "94b8b286-8635-4265-8570-175c29be6cea",
   "metadata": {},
   "outputs": [],
   "source": [
    "weight = mass * 9.8"
   ]
  },
  {
   "cell_type": "code",
   "execution_count": 134,
   "id": "5d8afa50-0a04-4726-8d4f-13a4811485e7",
   "metadata": {},
   "outputs": [
    {
     "name": "stdout",
     "output_type": "stream",
     "text": [
      "The weight of your object is 147.0\n"
     ]
    }
   ],
   "source": [
    "print('The weight of your object is', weight) # End result of calculation"
   ]
  },
  {
   "cell_type": "code",
   "execution_count": 135,
   "id": "a2e3bb00-59a3-4ff3-a385-e7f545131a8d",
   "metadata": {},
   "outputs": [],
   "source": [
    "# Giving the program nested decision structures to determine the message."
   ]
  },
  {
   "cell_type": "code",
   "execution_count": 136,
   "id": "a52c207f-4154-4bf3-bf64-e283eb83d7ff",
   "metadata": {},
   "outputs": [],
   "source": [
    "if weight > 500:\n",
    "    print('The weight of your object is', weight)\n",
    "    print('This object is too heavy')"
   ]
  },
  {
   "cell_type": "code",
   "execution_count": 137,
   "id": "251bd8b0-6d6d-4784-90b2-fd41c9cee71e",
   "metadata": {},
   "outputs": [],
   "source": [
    "if weight < 100:\n",
    "    print('This is the weight of your object', weight)\n",
    "    print('This object is too light')"
   ]
  },
  {
   "cell_type": "code",
   "execution_count": 138,
   "id": "2bcaca4e-6aac-4feb-9387-57b39f1404f3",
   "metadata": {},
   "outputs": [],
   "source": [
    "# This should produce the desired effect!"
   ]
  },
  {
   "cell_type": "code",
   "execution_count": null,
   "id": "546d2cf3-3ab4-45f9-8c13-2130f9f8a7e8",
   "metadata": {},
   "outputs": [],
   "source": []
  },
  {
   "cell_type": "markdown",
   "id": "7b30375f-3018-4b87-9047-6be4d478e815",
   "metadata": {},
   "source": []
  },
  {
   "cell_type": "markdown",
   "id": "45d857fe-4715-4a54-b825-81e99c9e3b1c",
   "metadata": {},
   "source": [
    "### Programming Ex. 15"
   ]
  },
  {
   "cell_type": "code",
   "execution_count": 141,
   "id": "60f7123d-1218-4689-bf69-ac82cc30e1e0",
   "metadata": {},
   "outputs": [],
   "source": [
    "# I am asked to write a program that determines the amount of days in february in a specified year."
   ]
  },
  {
   "cell_type": "code",
   "execution_count": 142,
   "id": "9c7f1ead-8868-4407-a669-0b0f791720f9",
   "metadata": {},
   "outputs": [],
   "source": [
    "# The user should enter a month, year, and the amount of days should be calculated."
   ]
  },
  {
   "cell_type": "code",
   "execution_count": 143,
   "id": "62df6c4b-c6fd-48af-b555-218c0db539e0",
   "metadata": {},
   "outputs": [],
   "source": [
    "# First I will start by asking the user for data "
   ]
  },
  {
   "cell_type": "code",
   "execution_count": 267,
   "id": "c69040ce-95f5-45d2-9776-e0fd487fe27a",
   "metadata": {},
   "outputs": [
    {
     "name": "stdin",
     "output_type": "stream",
     "text": [
      "Enter the month  2\n"
     ]
    }
   ],
   "source": [
    "month = int(input('Enter the month ')) # User will enter month in"
   ]
  },
  {
   "cell_type": "code",
   "execution_count": 269,
   "id": "2ecfae55-260f-4360-aebb-d1e2abfed4d0",
   "metadata": {},
   "outputs": [
    {
     "name": "stdin",
     "output_type": "stream",
     "text": [
      "Enter the year  2008\n"
     ]
    }
   ],
   "source": [
    "years = int(input('Enter the year ')) # User will enter in year"
   ]
  },
  {
   "cell_type": "code",
   "execution_count": 271,
   "id": "1b260b12-8306-4ec8-85ac-7df429082984",
   "metadata": {},
   "outputs": [
    {
     "name": "stdout",
     "output_type": "stream",
     "text": [
      "February has 29 days\n"
     ]
    }
   ],
   "source": [
    "if month == 2 and years % 4 == 0 or years % 100 == 0 and years % 400 == 0:\n",
    "    print('February has 29 days')\n",
    "# If year is not divisible by 100 but divisible by 4, it is a leap year\n",
    "# Or if it is divisible by 100 and 400 it is a leap year\n",
    "else:\n",
    "    print('February has 28 days')\n",
    "   "
   ]
  },
  {
   "cell_type": "code",
   "execution_count": null,
   "id": "0472cc01-194f-4238-a12d-8b5d2f96f00c",
   "metadata": {},
   "outputs": [],
   "source": [
    "# Not a lot of code but it should produce the intended effect."
   ]
  },
  {
   "cell_type": "code",
   "execution_count": null,
   "id": "58df6ff9-8ebf-4b0e-81cf-7c3e3ffaaa2f",
   "metadata": {},
   "outputs": [],
   "source": []
  },
  {
   "cell_type": "markdown",
   "id": "b89c4a81-997b-4c72-911b-8629dbd536dd",
   "metadata": {},
   "source": [
    "### Programming Ex. 16"
   ]
  },
  {
   "cell_type": "code",
   "execution_count": null,
   "id": "ab9c11eb-94c0-4ad3-95ce-596f93773eca",
   "metadata": {},
   "outputs": [],
   "source": [
    "# I am asked to write a program that will troubleshoot someone through the steps of diagnosing and correcting a bad wifi connection."
   ]
  },
  {
   "cell_type": "code",
   "execution_count": null,
   "id": "9722238b-7d06-4527-8cb8-bc1be63e1839",
   "metadata": {},
   "outputs": [],
   "source": [
    "# I will have the progam ask a series of questions"
   ]
  },
  {
   "cell_type": "code",
   "execution_count": 306,
   "id": "7fc8b5c5-ee1d-487c-903d-a1b4685f0723",
   "metadata": {},
   "outputs": [
    {
     "name": "stdin",
     "output_type": "stream",
     "text": [
      "Are you having connection issues?  Yes\n"
     ]
    }
   ],
   "source": [
    "answer = input('Are you having connection issues? ')"
   ]
  },
  {
   "cell_type": "code",
   "execution_count": 350,
   "id": "1ecbf870-add7-4538-b3ef-a15c63e7b4b1",
   "metadata": {},
   "outputs": [
    {
     "name": "stdout",
     "output_type": "stream",
     "text": [
      "Have a good day\n"
     ]
    }
   ],
   "source": [
    "if answer == \"Yes\":\n",
    "   print('Have you rebooted you device? ')\n",
    "else:\n",
    "    print('Have a good day. ') # If the user answers no the program will end. Otherwise it will delve further."
   ]
  },
  {
   "cell_type": "code",
   "execution_count": 352,
   "id": "8d793099-cfae-4385-82a6-be1d1372490b",
   "metadata": {},
   "outputs": [
    {
     "name": "stdin",
     "output_type": "stream",
     "text": [
      "Did that work?  No\n"
     ]
    }
   ],
   "source": [
    "answer = input('Did that work? ')"
   ]
  },
  {
   "cell_type": "code",
   "execution_count": 354,
   "id": "7ffc819f-8c3c-4c56-84c7-cb8d7d1fd97f",
   "metadata": {},
   "outputs": [
    {
     "name": "stdout",
     "output_type": "stream",
     "text": [
      "Have you restarted your router? \n"
     ]
    }
   ],
   "source": [
    "if answer == \"No\":\n",
    "    print('Have you restarted your router? ') # Inquiring futher about troubleshooting tips\n",
    "else:\n",
    "    print('Have a good day ')"
   ]
  },
  {
   "cell_type": "code",
   "execution_count": 356,
   "id": "23c0b73d-614e-4557-ac42-e3361fbdf3d8",
   "metadata": {},
   "outputs": [
    {
     "name": "stdout",
     "output_type": "stream",
     "text": [
      "Please restart your router \n"
     ]
    }
   ],
   "source": [
    "if answer == \"No\":\n",
    "    print('Please restart your router ')\n",
    "else:\n",
    "    print('Did that work? ') # User must answer Yes or the program will continue to ask questions."
   ]
  },
  {
   "cell_type": "code",
   "execution_count": 338,
   "id": "e1eae904-b4f7-4ffe-a9cb-9b6150d40432",
   "metadata": {},
   "outputs": [
    {
     "name": "stdin",
     "output_type": "stream",
     "text": [
      "Did that work?  No\n"
     ]
    }
   ],
   "source": [
    "answer = input('Did that work? ')"
   ]
  },
  {
   "cell_type": "code",
   "execution_count": 340,
   "id": "dc98e7fa-bf0c-4d81-813d-94ad2e22970a",
   "metadata": {},
   "outputs": [
    {
     "name": "stdout",
     "output_type": "stream",
     "text": [
      "Please make sure your cables ae connected properly \n"
     ]
    }
   ],
   "source": [
    "if answer == \"No\":\n",
    "    print('Please make sure your cables ae connected properly ') # More troubleshooting tips\n",
    "else:\n",
    "    print('Have a good day. ')"
   ]
  },
  {
   "cell_type": "code",
   "execution_count": 344,
   "id": "de972375-8be5-4980-be71-822e3e3815e5",
   "metadata": {},
   "outputs": [
    {
     "name": "stdin",
     "output_type": "stream",
     "text": [
      "Did this fix the issue?  No\n"
     ]
    }
   ],
   "source": [
    "answer = input('Did this fix the issue? ')"
   ]
  },
  {
   "cell_type": "code",
   "execution_count": 358,
   "id": "8c97e26e-1ec6-4397-9f02-3b818436941e",
   "metadata": {},
   "outputs": [
    {
     "name": "stdout",
     "output_type": "stream",
     "text": [
      "Have you moved your router to a new location? \n"
     ]
    }
   ],
   "source": [
    "if answer == \"No\":\n",
    "    print('Have you moved your router to a new location? ') # Final troubleshooting tip\n",
    "else:\n",
    "    print('Have a good day. ')"
   ]
  },
  {
   "cell_type": "code",
   "execution_count": 348,
   "id": "76f6e351-ed54-4e36-8513-a8cf84a740d2",
   "metadata": {},
   "outputs": [
    {
     "name": "stdin",
     "output_type": "stream",
     "text": [
      "Did that fix the issue?  No\n"
     ]
    }
   ],
   "source": [
    "answer = input('Did that fix the issue? ')"
   ]
  },
  {
   "cell_type": "code",
   "execution_count": 360,
   "id": "9cc9953c-2ae7-4406-9c78-3758c88932fa",
   "metadata": {},
   "outputs": [
    {
     "name": "stdout",
     "output_type": "stream",
     "text": [
      "You should consider replacing your router \n"
     ]
    }
   ],
   "source": [
    "if answer == \"No\":\n",
    "    print('You should consider replacing your router ') # This is the final step altogether. If the problem has not been corrected by this point, major issue may be the cause.\n",
    "else:\n",
    "    print('Have a good day ')"
   ]
  },
  {
   "cell_type": "code",
   "execution_count": null,
   "id": "a16ac1ab-f270-48a5-80ac-0e18ba70283b",
   "metadata": {},
   "outputs": [],
   "source": [
    "# Step by step troubleshooting of a Wifi router and connection."
   ]
  }
 ],
 "metadata": {
  "kernelspec": {
   "display_name": "Python 3 (ipykernel)",
   "language": "python",
   "name": "python3"
  },
  "language_info": {
   "codemirror_mode": {
    "name": "ipython",
    "version": 3
   },
   "file_extension": ".py",
   "mimetype": "text/x-python",
   "name": "python",
   "nbconvert_exporter": "python",
   "pygments_lexer": "ipython3",
   "version": "3.11.7"
  }
 },
 "nbformat": 4,
 "nbformat_minor": 5
}
