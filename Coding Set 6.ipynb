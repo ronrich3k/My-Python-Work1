{
 "cells": [
  {
   "cell_type": "markdown",
   "id": "5b3f170d-ac18-42ec-b092-27b69009809c",
   "metadata": {},
   "source": [
    "# Coding Set 6"
   ]
  },
  {
   "cell_type": "markdown",
   "id": "b702d686-a0b0-41e7-9d77-01c9b500ce54",
   "metadata": {},
   "source": [
    "## Algorithm Workbench Ex. 1 & 2"
   ]
  },
  {
   "cell_type": "code",
   "execution_count": 9,
   "id": "c17cd2a8-e5c8-4262-b14c-aa5464d58c87",
   "metadata": {},
   "outputs": [],
   "source": [
    "# I am asked to write a program that opens an output file with the \n",
    "# filename my_name.txt, writes my name to the file, then closes the file."
   ]
  },
  {
   "cell_type": "code",
   "execution_count": 10,
   "id": "7d4e4f77-4693-46f6-9c1c-3317da70de7c",
   "metadata": {},
   "outputs": [],
   "source": [
    "# First I will start by defining the function"
   ]
  },
  {
   "cell_type": "code",
   "execution_count": 11,
   "id": "101c41e7-5be8-4310-aae3-b142a5ff3115",
   "metadata": {},
   "outputs": [],
   "source": [
    "def main():\n",
    "    # This will open a file called my_name.txt\n",
    "    outfile = open('my_name.txt', 'w')\n",
    "\n",
    "    # This next line will write my name to the file\n",
    "    outfile.write('Ronald Clark III\\n')\n",
    "\n",
    "    # Now I will call for the program to close the file\n",
    "    outfile.close()\n",
    "\n",
    "    # Then I will call for the main function\n",
    "\n",
    "    main()\n",
    "    "
   ]
  },
  {
   "cell_type": "code",
   "execution_count": null,
   "id": "a25c9f21-e675-4909-b4f3-690cd8e5b20c",
   "metadata": {},
   "outputs": [],
   "source": []
  }
 ],
 "metadata": {
  "kernelspec": {
   "display_name": "Python 3 (ipykernel)",
   "language": "python",
   "name": "python3"
  },
  "language_info": {
   "codemirror_mode": {
    "name": "ipython",
    "version": 3
   },
   "file_extension": ".py",
   "mimetype": "text/x-python",
   "name": "python",
   "nbconvert_exporter": "python",
   "pygments_lexer": "ipython3",
   "version": "3.11.7"
  }
 },
 "nbformat": 4,
 "nbformat_minor": 5
}
