{
 "cells": [
  {
   "cell_type": "markdown",
   "id": "86e1810b-8aca-4a46-b5d1-3b0e98adfc57",
   "metadata": {},
   "source": [
    "#Chapter 2 Exercises"
   ]
  },
  {
   "cell_type": "markdown",
   "id": "5f51d714-a377-45e6-aac9-2033661f3dcd",
   "metadata": {},
   "source": [
    "## Algorithm Workbench - Number 6"
   ]
  },
  {
   "cell_type": "code",
   "execution_count": 1,
   "id": "72c69db0-b52e-4c43-ad06-95eba6c70c74",
   "metadata": {},
   "outputs": [],
   "source": [
    "#question number 6 asks for a statement to be written that subtracts the variable \"down_payment\" from \"total\" and assigns the result to \"due\""
   ]
  },
  {
   "cell_type": "code",
   "execution_count": 2,
   "id": "32241dd1-760e-420c-b39c-513a59f70506",
   "metadata": {},
   "outputs": [],
   "source": [
    "down_payment = 2000"
   ]
  },
  {
   "cell_type": "code",
   "execution_count": 3,
   "id": "d7a09743-151c-4729-a281-25c672b81f0b",
   "metadata": {},
   "outputs": [],
   "source": [
    "total = 37599 # assigning my variables values"
   ]
  },
  {
   "cell_type": "code",
   "execution_count": 4,
   "id": "eb5a36f1-d796-46b5-9b4b-494319406dd2",
   "metadata": {},
   "outputs": [],
   "source": [
    "due = total - down_payment # this will be the sum total displayed or \"due\""
   ]
  },
  {
   "cell_type": "code",
   "execution_count": 5,
   "id": "dcca9696-b8a1-48a8-a356-6d4fa1f13a15",
   "metadata": {},
   "outputs": [],
   "source": [
    "# I can now use the print function to show my variable \"due\""
   ]
  },
  {
   "cell_type": "code",
   "execution_count": 6,
   "id": "5fdf7d73-c43a-4007-a62a-921eb6cdc677",
   "metadata": {},
   "outputs": [
    {
     "name": "stdout",
     "output_type": "stream",
     "text": [
      "The final price you will be paying is 35599\n"
     ]
    }
   ],
   "source": [
    "print ('The final price you will be paying is', due) # Final result"
   ]
  },
  {
   "cell_type": "markdown",
   "id": "71daba06-34f5-456f-aba5-6a96e51808f5",
   "metadata": {},
   "source": []
  },
  {
   "cell_type": "markdown",
   "id": "9963cd52-2da2-498c-b9b2-83c63d3c1ef7",
   "metadata": {},
   "source": []
  },
  {
   "cell_type": "markdown",
   "id": "cad4c178-bbc9-4ab3-9349-c96ad11eb324",
   "metadata": {},
   "source": [
    "## Progamming Exercises - Number 7"
   ]
  },
  {
   "cell_type": "code",
   "execution_count": 7,
   "id": "41e3bf69-2b28-4807-96e9-a1c2415e5d8f",
   "metadata": {},
   "outputs": [],
   "source": [
    "# The question asks to write a program that asks the user for the number of miles driven and gallons of gas used and calculates the car's MPG and displays the result."
   ]
  },
  {
   "cell_type": "code",
   "execution_count": 8,
   "id": "b4d33911-26af-4d90-b51a-0da831f044ea",
   "metadata": {},
   "outputs": [],
   "source": [
    "# The formula is MPG = M / G. Miles Per Gallon = Miles driven divided by Gallons of gas used"
   ]
  },
  {
   "cell_type": "code",
   "execution_count": 9,
   "id": "34eb7471-64a5-4ad6-b97a-7ff73fce7648",
   "metadata": {},
   "outputs": [
    {
     "name": "stdin",
     "output_type": "stream",
     "text": [
      "Enter Miles Driven:  73\n"
     ]
    }
   ],
   "source": [
    "num1 = int(input(\"Enter Miles Driven: \") ) # Taking user input as int for \"num1\""
   ]
  },
  {
   "cell_type": "code",
   "execution_count": 10,
   "id": "8e3bcef3-fb3b-43ff-98fd-769e5861f244",
   "metadata": {},
   "outputs": [
    {
     "name": "stdin",
     "output_type": "stream",
     "text": [
      "Enter Gallons of Gas Used 3\n"
     ]
    }
   ],
   "source": [
    "num2 = int(input(\"Enter Gallons of Gas Used\") ) # Taking user input as int for \"num2\""
   ]
  },
  {
   "cell_type": "code",
   "execution_count": 11,
   "id": "778318e6-a76c-4f57-86cf-33936b2cf3f7",
   "metadata": {},
   "outputs": [],
   "source": [
    "# I then divide \"num1\" from \"num2\""
   ]
  },
  {
   "cell_type": "code",
   "execution_count": 12,
   "id": "195c36a8-cb76-4296-8e3b-321314eb755e",
   "metadata": {},
   "outputs": [],
   "source": [
    "MPG = num1 / num2"
   ]
  },
  {
   "cell_type": "code",
   "execution_count": 13,
   "id": "03061df4-82c3-47aa-94e1-00ca5ca91727",
   "metadata": {},
   "outputs": [
    {
     "name": "stdout",
     "output_type": "stream",
     "text": [
      "Your Miles Per Gallon Are: 24.333333333333332\n"
     ]
    }
   ],
   "source": [
    "print('Your Miles Per Gallon Are:', MPG)"
   ]
  },
  {
   "cell_type": "code",
   "execution_count": 14,
   "id": "264b890c-ec5f-42f6-a403-2e3e5d64bf57",
   "metadata": {},
   "outputs": [],
   "source": [
    "#Your Miles Per Gallon are now showed!"
   ]
  },
  {
   "cell_type": "markdown",
   "id": "483e26d8-50a2-4d3f-adcf-8aa48afb5a05",
   "metadata": {},
   "source": []
  },
  {
   "cell_type": "markdown",
   "id": "5e9266b9-06f7-409a-98f1-8426c6b82a4f",
   "metadata": {},
   "source": []
  },
  {
   "cell_type": "markdown",
   "id": "dedae0a0-4b97-401b-9b31-9625a686e30a",
   "metadata": {},
   "source": [
    "## Programming Exercises - Number 13"
   ]
  },
  {
   "cell_type": "markdown",
   "id": "bcde40e1-ceee-4695-8e30-230da4650d7f",
   "metadata": {},
   "source": [
    "# Planting Grapevines"
   ]
  },
  {
   "cell_type": "code",
   "execution_count": 15,
   "id": "920697b3-ba9f-4561-95cb-6a877557f4eb",
   "metadata": {},
   "outputs": [],
   "source": [
    "# The formula for figuring out how many grapevines to plant in a row is as follows: V = (R-2E) / S\n",
    "# V is the total number of grapevines, R is the length of the row, in feet. E is the amount of space , in feet, used by an end-pot assembly, and S is the space in between vines, in feet."
   ]
  },
  {
   "cell_type": "code",
   "execution_count": 16,
   "id": "1c701789-3a4c-45f0-9682-948ef369a857",
   "metadata": {},
   "outputs": [
    {
     "name": "stdin",
     "output_type": "stream",
     "text": [
      "Enter Length of Row In Feet 11\n"
     ]
    }
   ],
   "source": [
    "R = int(input(\"Enter Length of Row In Feet\") ) # user input of length value"
   ]
  },
  {
   "cell_type": "code",
   "execution_count": 17,
   "id": "e7e35371-8686-4b39-8ab3-a3300fcc27e3",
   "metadata": {},
   "outputs": [
    {
     "name": "stdin",
     "output_type": "stream",
     "text": [
      "Enter End-Post Assebmly Size, in Feet 2\n"
     ]
    }
   ],
   "source": [
    "E = int(input(\"Enter End-Post Assebmly Size, in Feet\") ) # user input of end post size"
   ]
  },
  {
   "cell_type": "code",
   "execution_count": 18,
   "id": "6f7d8365-9982-47a4-9f5d-115d105e5d47",
   "metadata": {},
   "outputs": [
    {
     "name": "stdin",
     "output_type": "stream",
     "text": [
      "Enter Space Between Vine, in Feet 1\n"
     ]
    }
   ],
   "source": [
    "S = int(input(\"Enter Space Between Vine, in Feet\") ) #user input of space between vines"
   ]
  },
  {
   "cell_type": "code",
   "execution_count": 19,
   "id": "1a3b4005-ebbb-4763-854b-84f7176adb6f",
   "metadata": {},
   "outputs": [],
   "source": [
    "V = (R - 2 * E) / S # The formula in Python Statement"
   ]
  },
  {
   "cell_type": "code",
   "execution_count": 20,
   "id": "446f296b-863c-448b-a983-0e444fd88a28",
   "metadata": {},
   "outputs": [
    {
     "name": "stdout",
     "output_type": "stream",
     "text": [
      "You can fit 7.0 Grapevines in each row\n"
     ]
    }
   ],
   "source": [
    "print('You can fit', V, 'Grapevines in each row')"
   ]
  },
  {
   "cell_type": "code",
   "execution_count": 21,
   "id": "b8d5526d-05aa-4ad4-86ee-e4080bd7ac2b",
   "metadata": {},
   "outputs": [],
   "source": [
    "# This should display the desired result!"
   ]
  }
 ],
 "metadata": {
  "kernelspec": {
   "display_name": "Python 3 (ipykernel)",
   "language": "python",
   "name": "python3"
  },
  "language_info": {
   "codemirror_mode": {
    "name": "ipython",
    "version": 3
   },
   "file_extension": ".py",
   "mimetype": "text/x-python",
   "name": "python",
   "nbconvert_exporter": "python",
   "pygments_lexer": "ipython3",
   "version": "3.11.7"
  }
 },
 "nbformat": 4,
 "nbformat_minor": 5
}
