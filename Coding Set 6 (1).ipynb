{
 "cells": [
  {
   "cell_type": "markdown",
   "id": "5b3f170d-ac18-42ec-b092-27b69009809c",
   "metadata": {},
   "source": [
    "# Coding Set 6"
   ]
  },
  {
   "cell_type": "markdown",
   "id": "2388c11d-f0e8-4c40-9953-24c6afe2bfcb",
   "metadata": {},
   "source": [
    "# Coding Set 6"
   ]
  },
  {
   "cell_type": "markdown",
   "id": "b702d686-a0b0-41e7-9d77-01c9b500ce54",
   "metadata": {},
   "source": [
    "## Algorithm Workbench Ex. 1 & 2"
   ]
  },
  {
   "cell_type": "code",
   "execution_count": 6,
   "id": "c17cd2a8-e5c8-4262-b14c-aa5464d58c87",
   "metadata": {},
   "outputs": [],
   "source": [
    "# I am asked to write a program that opens an output file with the \n",
    "# filename my_name.txt, writes my name to the file, then closes the file."
   ]
  },
  {
   "cell_type": "code",
   "execution_count": 7,
   "id": "7d4e4f77-4693-46f6-9c1c-3317da70de7c",
   "metadata": {},
   "outputs": [],
   "source": [
    "# First I will start by defining the function"
   ]
  },
  {
   "cell_type": "code",
   "execution_count": 8,
   "id": "101c41e7-5be8-4310-aae3-b142a5ff3115",
   "metadata": {},
   "outputs": [],
   "source": [
    "def main():\n",
    "    # This will open a file called my_name.txt\n",
    "    file = open('my_name.txt', 'w')\n",
    "\n",
    "    # This next line will write my name to the file\n",
    "    file.write('Ronald Clark III\\n')\n",
    "\n",
    "    # Now I will call for the program to close the file\n",
    "    file.close()\n",
    "\n",
    "    # Then I will call for the main function\n",
    "\n",
    "    main()\n",
    "    "
   ]
  },
  {
   "cell_type": "code",
   "execution_count": 9,
   "id": "a25c9f21-e675-4909-b4f3-690cd8e5b20c",
   "metadata": {},
   "outputs": [],
   "source": [
    "# I am asked to write a program that will open the file I just created,\n",
    "# reads my name from the file, displays the name, and closes the file."
   ]
  },
  {
   "cell_type": "code",
   "execution_count": 10,
   "id": "619e6b32-03a0-46ec-a64f-eea555a6b8e0",
   "metadata": {},
   "outputs": [],
   "source": [
    "# Again, I will define the function"
   ]
  },
  {
   "cell_type": "code",
   "execution_count": null,
   "id": "c1609f66-d6d0-461d-9b7c-a066a474ee35",
   "metadata": {},
   "outputs": [],
   "source": [
    "def main2():\n",
    "    file = open('my_name.txt', 'r') # This will open my file\n",
    "   \n",
    "    # This will read the data from the file\n",
    "    data = file.read()\n",
    "\n",
    "    # Calling for the program to print the data on the screen\n",
    "    print(data)\n",
    "\n",
    "    # Making the program close the file when done\n",
    "    file.close()\n",
    "\n",
    "    # Calling for main function #2\n",
    "\n",
    "    main2"
   ]
  }
 ],
 "metadata": {
  "kernelspec": {
   "display_name": "Python 3 (ipykernel)",
   "language": "python",
   "name": "python3"
  },
  "language_info": {
   "codemirror_mode": {
    "name": "ipython",
    "version": 3
   },
   "file_extension": ".py",
   "mimetype": "text/x-python",
   "name": "python",
   "nbconvert_exporter": "python",
   "pygments_lexer": "ipython3",
   "version": "3.11.7"
  }
 },
 "nbformat": 4,
 "nbformat_minor": 5
}
