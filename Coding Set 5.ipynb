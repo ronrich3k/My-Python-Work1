{
 "cells": [
  {
   "cell_type": "markdown",
   "id": "f6f74eb0-493a-416d-b338-b39d7c98256e",
   "metadata": {},
   "source": [
    "# Coding Set 5"
   ]
  },
  {
   "cell_type": "markdown",
   "id": "98db61f4-fa4d-4f0f-aa39-be14bdc9d4d9",
   "metadata": {},
   "source": [
    "#### Algorithm Workbench Ex. 9 & 10"
   ]
  },
  {
   "cell_type": "code",
   "execution_count": 125,
   "id": "401a754a-9a05-4487-98b5-8e3af6d989fd",
   "metadata": {},
   "outputs": [],
   "source": [
    "# I am asked to write a function named times_ten that accepts a number as an\n",
    "# argument, and when the function is called it should return the value multiplied by 10."
   ]
  },
  {
   "cell_type": "code",
   "execution_count": 126,
   "id": "5f2c46de-484a-4a06-8bcd-6cddc5caa8bb",
   "metadata": {},
   "outputs": [],
   "source": [
    "# First I will start by defining the function."
   ]
  },
  {
   "cell_type": "code",
   "execution_count": 127,
   "id": "31d47c27-7ba6-4d09-bdc1-8d189f16bedd",
   "metadata": {},
   "outputs": [],
   "source": [
    "# I will also create a variable for ten"
   ]
  },
  {
   "cell_type": "code",
   "execution_count": 128,
   "id": "2c33da02-813b-4e2b-9342-97441aba2c33",
   "metadata": {},
   "outputs": [],
   "source": [
    "x = 10"
   ]
  },
  {
   "cell_type": "code",
   "execution_count": 129,
   "id": "e437ba00-c24e-4caf-88be-7a1ad87d6f2c",
   "metadata": {},
   "outputs": [],
   "source": [
    "def times_ten():\n",
    "    # Showing the user what the program is doing\n",
    "    opening_greeting()\n",
    "    get_number()\n",
    "    multiply(num1, x)"
   ]
  },
  {
   "cell_type": "code",
   "execution_count": 130,
   "id": "b32e4bb3-9a31-4624-8538-299b237d91ee",
   "metadata": {},
   "outputs": [],
   "source": [
    "# Next I am going to define the openening greeting."
   ]
  },
  {
   "cell_type": "code",
   "execution_count": 131,
   "id": "5e05f693-d6ee-419b-8fa1-cad380d70c0a",
   "metadata": {},
   "outputs": [],
   "source": [
    "def opening_greeting():\n",
    "    print('Hello. ')\n",
    "    print('This program will have you enter a number ')\n",
    "    print('That number will then be multiplied by ten ')\n",
    "    print('The correct calculation will be displayed. ')"
   ]
  },
  {
   "cell_type": "code",
   "execution_count": 132,
   "id": "29704652-4d47-48d0-812d-51a878df1284",
   "metadata": {},
   "outputs": [],
   "source": [
    "# Next I will create the function that will get the number"
   ]
  },
  {
   "cell_type": "code",
   "execution_count": 143,
   "id": "4a8e953d-17eb-427f-ae56-40a6b08c6675",
   "metadata": {},
   "outputs": [],
   "source": [
    "def get_number():\n",
    "    num1 = int(input('Please enter a number: '))"
   ]
  },
  {
   "cell_type": "code",
   "execution_count": 134,
   "id": "73b03ddf-0875-431a-80a4-391fc172f88f",
   "metadata": {},
   "outputs": [],
   "source": [
    "# Next I will call for a function to multiply the number by ten."
   ]
  },
  {
   "cell_type": "code",
   "execution_count": 139,
   "id": "3871ccd3-efd0-4ae1-92c5-87506dc0c8c8",
   "metadata": {},
   "outputs": [],
   "source": [
    "def multiply(num1, x):\n",
    "    answer = num1 * x\n",
    "    print(f'The value is {answer}. ')"
   ]
  },
  {
   "cell_type": "code",
   "execution_count": 141,
   "id": "61a12c1c-2fd8-4ad1-a8ae-1d1eec65b8d6",
   "metadata": {},
   "outputs": [
    {
     "name": "stdout",
     "output_type": "stream",
     "text": [
      "Hello. \n",
      "This program will have you enter a number \n",
      "That number will then be multiplied by ten \n",
      "The correct calculation will be displayed. \n"
     ]
    },
    {
     "name": "stdin",
     "output_type": "stream",
     "text": [
      "Please enter a number:  100\n"
     ]
    },
    {
     "ename": "NameError",
     "evalue": "name 'num1' is not defined",
     "output_type": "error",
     "traceback": [
      "\u001b[1;31m---------------------------------------------------------------------------\u001b[0m",
      "\u001b[1;31mNameError\u001b[0m                                 Traceback (most recent call last)",
      "Cell \u001b[1;32mIn[141], line 1\u001b[0m\n\u001b[1;32m----> 1\u001b[0m times_ten()\n",
      "Cell \u001b[1;32mIn[129], line 5\u001b[0m, in \u001b[0;36mtimes_ten\u001b[1;34m()\u001b[0m\n\u001b[0;32m      3\u001b[0m opening_greeting()\n\u001b[0;32m      4\u001b[0m get_number()\n\u001b[1;32m----> 5\u001b[0m multiply(num1, x)\n",
      "\u001b[1;31mNameError\u001b[0m: name 'num1' is not defined"
     ]
    }
   ],
   "source": [
    "times_ten()"
   ]
  },
  {
   "cell_type": "code",
   "execution_count": null,
   "id": "bac3aaab-9544-48de-bf70-eee0a8442f49",
   "metadata": {},
   "outputs": [],
   "source": []
  }
 ],
 "metadata": {
  "kernelspec": {
   "display_name": "Python 3 (ipykernel)",
   "language": "python",
   "name": "python3"
  },
  "language_info": {
   "codemirror_mode": {
    "name": "ipython",
    "version": 3
   },
   "file_extension": ".py",
   "mimetype": "text/x-python",
   "name": "python",
   "nbconvert_exporter": "python",
   "pygments_lexer": "ipython3",
   "version": "3.11.7"
  }
 },
 "nbformat": 4,
 "nbformat_minor": 5
}
