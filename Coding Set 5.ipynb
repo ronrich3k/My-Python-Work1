{
 "cells": [
  {
   "cell_type": "markdown",
   "id": "f6f74eb0-493a-416d-b338-b39d7c98256e",
   "metadata": {},
   "source": [
    "# Coding Set 5"
   ]
  },
  {
   "cell_type": "markdown",
   "id": "98db61f4-fa4d-4f0f-aa39-be14bdc9d4d9",
   "metadata": {},
   "source": [
    "#### Algorithm Workbench Ex. 9 & 10"
   ]
  },
  {
   "cell_type": "code",
   "execution_count": null,
   "id": "401a754a-9a05-4487-98b5-8e3af6d989fd",
   "metadata": {},
   "outputs": [],
   "source": [
    "# I am asked to write a function named times_ten that accepts a number as an\n",
    "# argument, and when the function is called it should return the value multiplied by 10."
   ]
  }
 ],
 "metadata": {
  "kernelspec": {
   "display_name": "Python 3 (ipykernel)",
   "language": "python",
   "name": "python3"
  },
  "language_info": {
   "codemirror_mode": {
    "name": "ipython",
    "version": 3
   },
   "file_extension": ".py",
   "mimetype": "text/x-python",
   "name": "python",
   "nbconvert_exporter": "python",
   "pygments_lexer": "ipython3",
   "version": "3.11.7"
  }
 },
 "nbformat": 4,
 "nbformat_minor": 5
}
